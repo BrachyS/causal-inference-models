{
 "cells": [
  {
   "cell_type": "markdown",
   "metadata": {},
   "source": [
    "# Causal inference practice \n",
    "\n",
    "Tutorial ref: https://medium.com/analytics-vidhya/identify-causality-by-fixed-effects-model-585554bd9735  \n",
    "\n",
    "Question of interests: does market value drive investment of companies?  \n",
    "\n",
    "Data: the famous Grunfeld dataset. In the form of Panel Data (longitudinal or cross-sectional time-series data)  \n",
    "\n",
    "Approach: we use PanelOLS to fit 3 models with the data \n",
    "    - model1 considers fixed effects of firm and year.\n",
    "    - model2 considers fixed effects of firm only. \n",
    "    - model3 does not specify fixed effects.\n",
    "We discuss the statistical inference we can draw from each model. "
   ]
  },
  {
   "attachments": {},
   "cell_type": "markdown",
   "metadata": {},
   "source": [
    "<img src='img/stephen-dawson-qwtCeJ5cLYs-unsplash.jpg' width=400/>"
   ]
  },
  {
   "cell_type": "code",
   "execution_count": 1,
   "metadata": {},
   "outputs": [
    {
     "name": "stdout",
     "output_type": "stream",
     "text": [
      "                       invest   value  capital\n",
      "firm           year                           \n",
      "General Motors 1935.0   317.6  3078.5      2.8\n",
      "               1936.0   391.8  4661.7     52.6\n",
      "               1937.0   410.6  5387.1    156.9\n",
      "               1938.0   257.7  2792.2    209.2\n",
      "               1939.0   330.8  4313.2    203.4\n"
     ]
    }
   ],
   "source": [
    "from statsmodels.datasets import grunfeld\n",
    "data = grunfeld.load_pandas().data\n",
    "data = data.set_index(['firm','year'])\n",
    "print(data.head())"
   ]
  },
  {
   "cell_type": "code",
   "execution_count": 9,
   "metadata": {},
   "outputs": [],
   "source": [
    "firms = data.index.get_level_values('firm').unique().tolist()\n",
    "years = data.index.get_level_values('year').unique().tolist()"
   ]
  },
  {
   "cell_type": "code",
   "execution_count": 10,
   "metadata": {},
   "outputs": [
    {
     "name": "stdout",
     "output_type": "stream",
     "text": [
      "There are 11 firms for 20 years\n"
     ]
    }
   ],
   "source": [
    "print('There are {} firms for {} years'.format(len(firms),len(years)))"
   ]
  },
  {
   "cell_type": "markdown",
   "metadata": {},
   "source": [
    "In the PanelOLS formula below, 'EntityEffects' control for time-invariant variables such as the firms.  \n",
    "'TimeEffects' control for omitted variables (not measured) that vary overtime for every firm, such as macroeconomic conditions."
   ]
  },
  {
   "cell_type": "code",
   "execution_count": 18,
   "metadata": {},
   "outputs": [
    {
     "name": "stdout",
     "output_type": "stream",
     "text": [
      "                          PanelOLS Estimation Summary                           \n",
      "================================================================================\n",
      "Dep. Variable:                 invest   R-squared:                        0.7253\n",
      "Estimator:                   PanelOLS   R-squared (Between):              0.7637\n",
      "No. Observations:                 220   R-squared (Within):               0.7566\n",
      "Date:                Sun, Sep 27 2020   R-squared (Overall):              0.7625\n",
      "Time:                        16:44:10   Log-likelihood                   -1153.0\n",
      "Cov. Estimator:            Unadjusted                                           \n",
      "                                        F-statistic:                      248.15\n",
      "Entities:                          11   P-value                           0.0000\n",
      "Avg Obs:                       20.000   Distribution:                   F(2,188)\n",
      "Min Obs:                       20.000                                           \n",
      "Max Obs:                       20.000   F-statistic (robust):             248.15\n",
      "                                        P-value                           0.0000\n",
      "Time periods:                      20   Distribution:                   F(2,188)\n",
      "Avg Obs:                       11.000                                           \n",
      "Min Obs:                       11.000                                           \n",
      "Max Obs:                       11.000                                           \n",
      "                                                                                \n",
      "                             Parameter Estimates                              \n",
      "==============================================================================\n",
      "            Parameter  Std. Err.     T-stat    P-value    Lower CI    Upper CI\n",
      "------------------------------------------------------------------------------\n",
      "value          0.1167     0.0129     9.0219     0.0000      0.0912      0.1422\n",
      "capital        0.3514     0.0210     16.696     0.0000      0.3099      0.3930\n",
      "==============================================================================\n",
      "\n",
      "F-test for Poolability: 18.476\n",
      "P-value: 0.0000\n",
      "Distribution: F(29,188)\n",
      "\n",
      "Included effects: Entity, Time\n"
     ]
    }
   ],
   "source": [
    "# Fit a fixed-effects model, treating firm and year as fixed effects.\n",
    "from linearmodels.panel import PanelOLS\n",
    "import statsmodels.api as sm\n",
    "\n",
    "\n",
    "# with both entityeffects and timeeffects\n",
    "model1 = PanelOLS.from_formula(\"invest ~ value + capital + EntityEffects + TimeEffects\", data = data)\n",
    "print(model1.fit())"
   ]
  },
  {
   "cell_type": "markdown",
   "metadata": {},
   "source": [
    "**Summary**  \n",
    "Both 'value' and 'capital' are significantly positively correlated with 'invest'.\n",
    "The 'Poolability Test' confirms if the fixed-effects indeed exist. In this case,  \n",
    "F-test for Poolability = 18.476 and p-value = 0.0, so we can reject the hypothesis and conclude that there are fixed-effects.\n",
    "Thus we can conclude that value and capital both contribute to increase in investment (i.e.,causal relationship)."
   ]
  },
  {
   "cell_type": "markdown",
   "metadata": {},
   "source": [
    "What if we remove TimeEffects? Let's fit model 2, fe2:"
   ]
  },
  {
   "cell_type": "code",
   "execution_count": 19,
   "metadata": {},
   "outputs": [
    {
     "name": "stdout",
     "output_type": "stream",
     "text": [
      "                          PanelOLS Estimation Summary                           \n",
      "================================================================================\n",
      "Dep. Variable:                 invest   R-squared:                        0.7667\n",
      "Estimator:                   PanelOLS   R-squared (Between):              0.8223\n",
      "No. Observations:                 220   R-squared (Within):               0.7667\n",
      "Date:                Sun, Sep 27 2020   R-squared (Overall):              0.8132\n",
      "Time:                        16:44:14   Log-likelihood                   -1167.4\n",
      "Cov. Estimator:            Unadjusted                                           \n",
      "                                        F-statistic:                      340.08\n",
      "Entities:                          11   P-value                           0.0000\n",
      "Avg Obs:                       20.000   Distribution:                   F(2,207)\n",
      "Min Obs:                       20.000                                           \n",
      "Max Obs:                       20.000   F-statistic (robust):             340.08\n",
      "                                        P-value                           0.0000\n",
      "Time periods:                      20   Distribution:                   F(2,207)\n",
      "Avg Obs:                       11.000                                           \n",
      "Min Obs:                       11.000                                           \n",
      "Max Obs:                       11.000                                           \n",
      "                                                                                \n",
      "                             Parameter Estimates                              \n",
      "==============================================================================\n",
      "            Parameter  Std. Err.     T-stat    P-value    Lower CI    Upper CI\n",
      "------------------------------------------------------------------------------\n",
      "value          0.1101     0.0113     9.7461     0.0000      0.0879      0.1324\n",
      "capital        0.3100     0.0165     18.744     0.0000      0.2774      0.3426\n",
      "==============================================================================\n",
      "\n",
      "F-test for Poolability: 49.207\n",
      "P-value: 0.0000\n",
      "Distribution: F(10,207)\n",
      "\n",
      "Included effects: Entity\n"
     ]
    }
   ],
   "source": [
    "# with only entity effects\n",
    "model2 = PanelOLS.from_formula('invest ~ value + capital + EntityEffects', data=data)\n",
    "print(model2.fit())"
   ]
  },
  {
   "cell_type": "markdown",
   "metadata": {},
   "source": [
    "**Summary**  \n",
    "The R-squared increased from 0.7253 in model1 to 0.7667 in model2.\n",
    "This indicate that model2 is a better fit than model1. Likely because adding time variants in model1 take into those 'omitted', or 'unmeasured' variables that are also affecting the dependent variable.   \n",
    "So although model2 has a higher R-squared, we would not be very confident to draw a causal relationship between value, capital and investment. \n",
    "\n",
    "Model2 also passed the Poolability test (49.207, p=0.0)"
   ]
  },
  {
   "cell_type": "markdown",
   "metadata": {},
   "source": [
    "Lastly, what if we remove EntityEffects altogether ? (i.e.,remove all fixed effects)\n",
    "We will fit a model3"
   ]
  },
  {
   "cell_type": "code",
   "execution_count": 20,
   "metadata": {},
   "outputs": [
    {
     "name": "stdout",
     "output_type": "stream",
     "text": [
      "                          PanelOLS Estimation Summary                           \n",
      "================================================================================\n",
      "Dep. Variable:                 invest   R-squared:                        0.8577\n",
      "Estimator:                   PanelOLS   R-squared (Between):              0.8914\n",
      "No. Observations:                 220   R-squared (Within):               0.6868\n",
      "Date:                Sun, Sep 27 2020   R-squared (Overall):              0.8577\n",
      "Time:                        16:49:28   Log-likelihood                   -1311.4\n",
      "Cov. Estimator:            Unadjusted                                           \n",
      "                                        F-statistic:                      656.92\n",
      "Entities:                          11   P-value                           0.0000\n",
      "Avg Obs:                       20.000   Distribution:                   F(2,218)\n",
      "Min Obs:                       20.000                                           \n",
      "Max Obs:                       20.000   F-statistic (robust):             656.92\n",
      "                                        P-value                           0.0000\n",
      "Time periods:                      20   Distribution:                   F(2,218)\n",
      "Avg Obs:                       11.000                                           \n",
      "Min Obs:                       11.000                                           \n",
      "Max Obs:                       11.000                                           \n",
      "                                                                                \n",
      "                             Parameter Estimates                              \n",
      "==============================================================================\n",
      "            Parameter  Std. Err.     T-stat    P-value    Lower CI    Upper CI\n",
      "------------------------------------------------------------------------------\n",
      "value          0.1078     0.0056     19.409     0.0000      0.0968      0.1187\n",
      "capital        0.1824     0.0231     7.8938     0.0000      0.1368      0.2279\n",
      "==============================================================================\n",
      "\n",
      "\n"
     ]
    }
   ],
   "source": [
    "# model without specifying fixed effects\n",
    "model3 = PanelOLS.from_formula('invest ~ value + capital',data=data)\n",
    "print(model3.fit())"
   ]
  },
  {
   "cell_type": "markdown",
   "metadata": {},
   "source": [
    "**Summary**  \n",
    "Model3 yielded the highests R-squared (0.8577) among the three models.  \n",
    "We can say that model3 explained 86% of the variance in the data, and that value and capital positively **correlate** with investment.  \n",
    "However, because model3 did not address the **endogenous issue** (i.e., endogeneity, there may exist confounding factors that can explain the relationships between x and y), we could NOT draw any causal relationships from the results."
   ]
  },
  {
   "cell_type": "code",
   "execution_count": null,
   "metadata": {},
   "outputs": [],
   "source": []
  }
 ],
 "metadata": {
  "kernelspec": {
   "display_name": "Python 3",
   "language": "python",
   "name": "python3"
  },
  "language_info": {
   "codemirror_mode": {
    "name": "ipython",
    "version": 3
   },
   "file_extension": ".py",
   "mimetype": "text/x-python",
   "name": "python",
   "nbconvert_exporter": "python",
   "pygments_lexer": "ipython3",
   "version": "3.6.7"
  }
 },
 "nbformat": 4,
 "nbformat_minor": 2
}
